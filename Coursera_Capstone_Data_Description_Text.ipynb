{
 "cells": [
  {
   "cell_type": "markdown",
   "metadata": {},
   "source": [
    "## Data to be used for the analysis of potential set Up locations in Berlin, Paris and London"
   ]
  },
  {
   "cell_type": "markdown",
   "metadata": {},
   "source": [
    "First of all, we need to collect data about the potential quarters/neighborhoods in every city. Therefore it is elementary to get the spatial coordinates of every neighborhood. \n",
    "\n",
    "A first hint to the coordinates of a neighborhood can be given by its postal code. Later we can search the surroundings of these postal codes via a geocoder library which gives us longitudinal and latitudinal coordinates for further inspections. \n",
    "\n",
    "With these coordinates it is possible to get informations about the location from 'foursquare - city guide'. Data can be provided via an API connection.\n",
    "\n",
    "The first data source will lead to a list of postal codes in Berlin. It is provided by the website 'plz-suche.org' which stores each postal code of every city in Germany.\n",
    "It is reachable by the following url:\n",
    "\n",
    "https://www.plz-suche.org/stadt.berlin-de13f3\n",
    "\n",
    "To get the postal codes of the neighborhoods in Paris the website 'XXX' can be used via the URL:\n",
    "\n",
    "https://www.annuaire-administration.com/code-postal/departement/paris.html3\n",
    "\n",
    "For London, by accessing by the following url:\n",
    "\n",
    "https://www.doogal.co.uk/AdministrativeAreas.php?district=E090000013\n",
    "\n",
    "it is possible to download a csv file which contains ~6000 entries with active and non active postal codes for all wards (neighborhoods) of London. Additionally the file contains longitudinal and latitudinal coordinates of every ward. By getting only the active postal codes, the dataset minimizes to only ~1500 rows. \n",
    "Because the file already contains longitudinal and lateral coordinates, there is no more need to access them by a geocoding tool. After grouping the rows by the 25 wards and taking the mean of the longitudinal and lateral coordinates, it is possible to get one coordinate per ward. \n",
    "\n",
    "With these data we can proceed the analyzation. \n",
    "\n"
   ]
  },
  {
   "cell_type": "code",
   "execution_count": null,
   "metadata": {},
   "outputs": [],
   "source": []
  }
 ],
 "metadata": {
  "kernelspec": {
   "display_name": "Python 3",
   "language": "python",
   "name": "python3"
  },
  "language_info": {
   "codemirror_mode": {
    "name": "ipython",
    "version": 3
   },
   "file_extension": ".py",
   "mimetype": "text/x-python",
   "name": "python",
   "nbconvert_exporter": "python",
   "pygments_lexer": "ipython3",
   "version": "3.8.5"
  }
 },
 "nbformat": 4,
 "nbformat_minor": 4
}
