{
 "cells": [
  {
   "source": [
    "## Setting up location recommendations for a Japanese franchise company based of a data driven analytical research on the similarity of neighborhoods in the capital cities Berlin, London and Paris. \n",
    "\n",
    " \n",
    "\n",
    "As a new Japanese franchise company needs recommendations for their set up with three new high-priced sushi and Japanese food restaurants, they came up with the question which places over the cities of Berlin, Paris and London would be the best to locate their restaurants. \n",
    "\n",
    "In order to give them the best recommendation for the new locations in every city, the first question to be answered is: What is the right quarter for a high-priced Japanese restaurant? \n",
    "\n",
    "For the evaluation of this question, we take a few assumptions first: \n",
    "\n",
    "1. As the restaurant will be high-priced, we need to look for quarters with other high-priced quarters to set up the new location. \n",
    "\n",
    "2. Even if one says that competition stimulates business, it is much more likely that a new restaurant will get the most customers if there is less choice or less competitors in the same business area. Therefore, we search for quarters in these cities which are not already dominated by Asian Food. \n",
    "\n",
    "So, we need to find locations where high-priced restaurants are accepted and which are not dominated by Asian restaurants to maximize the profitability of the new franchise restaurants.  \n",
    "\n",
    "Therefore, we search for differences and similarities between the neighborhoods of the cities, based on the above-described criteria.  "
   ],
   "cell_type": "markdown",
   "metadata": {}
  },
  {
   "cell_type": "code",
   "execution_count": null,
   "metadata": {},
   "outputs": [],
   "source": []
  }
 ],
 "metadata": {},
 "nbformat": 4,
 "nbformat_minor": 4
}